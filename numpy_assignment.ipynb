{
 "cells": [
  {
   "cell_type": "code",
   "execution_count": 1,
   "metadata": {},
   "outputs": [
    {
     "name": "stdout",
     "output_type": "stream",
     "text": [
      "[0 1 2 3 4 5]\n",
      "<class 'numpy.ndarray'>\n"
     ]
    }
   ],
   "source": [
    "#Q1  Create a NumPy array 'arr' of integers from 0 to 5 and print its data type. \n",
    "import numpy as np\n",
    "l=[i for i in range(0,6)]\n",
    "arr=np.array(l)\n",
    "print(arr)\n",
    "print(type(arr))"
   ]
  },
  {
   "cell_type": "code",
   "execution_count": 2,
   "metadata": {},
   "outputs": [
    {
     "name": "stdout",
     "output_type": "stream",
     "text": [
      "True\n"
     ]
    }
   ],
   "source": [
    "#Q2  Given a NumPy array 'arr', check if its data type is float64. \n",
    "#                   arr = np.array([1.5, 2.6, 3.7])\n",
    "import numpy as np\n",
    "arr=np.array([1.5,2.6,3.7])\n",
    "if arr.dtype==np.float64:\n",
    "    print(\"True\")\n",
    "else:\n",
    "    print(\"False\")"
   ]
  },
  {
   "cell_type": "code",
   "execution_count": 3,
   "metadata": {},
   "outputs": [
    {
     "name": "stdout",
     "output_type": "stream",
     "text": [
      "[1.+2.j 3.-4.j 4.+7.j]\n",
      "complex128\n"
     ]
    }
   ],
   "source": [
    "#Q3  Create a NumPy array 'arr' with a data type of complex128 containing three complex numbers\n",
    "import numpy as np\n",
    "arr=np.array([1+2j,3-4j,4+7j],dtype=np.complex128)\n",
    "print(arr)\n",
    "print(arr.dtype)"
   ]
  },
  {
   "cell_type": "code",
   "execution_count": 4,
   "metadata": {},
   "outputs": [
    {
     "name": "stdout",
     "output_type": "stream",
     "text": [
      "[1 2 3 4 5]\n",
      "int32\n",
      "[1. 2. 3. 4. 5.]\n",
      "float32\n"
     ]
    }
   ],
   "source": [
    "#Q4  Convert an existing NumPy array 'arr' of integers to float32 data type.\n",
    "import numpy as np\n",
    "arr=np.array([1,2,3,4,5])\n",
    "print(arr)\n",
    "print(arr.dtype)\n",
    "new_arr=arr.astype(np.float32)\n",
    "print(new_arr)\n",
    "print(new_arr.dtype)"
   ]
  },
  {
   "cell_type": "code",
   "execution_count": 5,
   "metadata": {},
   "outputs": [
    {
     "name": "stdout",
     "output_type": "stream",
     "text": [
      "[ 1.5  2.3 44.5  0.7]\n",
      "float64\n",
      "[ 1.5  2.3 44.5  0.7]\n",
      "float32\n"
     ]
    }
   ],
   "source": [
    "#Q5 Given a NumPy array 'arr' with float64 data type, convert it to float32 to reduce decimal precision\n",
    "import numpy as np\n",
    "arr=np.array([1.5,2.3,44.5,0.7],dtype=np.float64)\n",
    "print(arr)\n",
    "print(arr.dtype)\n",
    "arr2=arr.astype(np.float32)\n",
    "print(arr2)\n",
    "print(arr2.dtype)"
   ]
  },
  {
   "cell_type": "code",
   "execution_count": 6,
   "metadata": {},
   "outputs": [
    {
     "name": "stdout",
     "output_type": "stream",
     "text": [
      "((6,), 6, dtype('int32'))\n"
     ]
    }
   ],
   "source": [
    "#Q6 write a function array_attributes that takes a NumPy array as input and returns its shape, size, and arr data type\n",
    "import numpy as np\n",
    "def array_attributes(arr):\n",
    "    # arr=np.array(arr)\n",
    "    shp=arr.shape\n",
    "    siz=arr.size\n",
    "    dataType=arr.dtype\n",
    "    return shp,siz,dataType\n",
    "\n",
    "arr1=np.array([1,2,3,4,5,6])\n",
    "print(array_attributes(arr1))\n"
   ]
  },
  {
   "cell_type": "code",
   "execution_count": 7,
   "metadata": {},
   "outputs": [
    {
     "name": "stdout",
     "output_type": "stream",
     "text": [
      "dimension of [1 2 3 4 5] is 1\n",
      "dimension of [[ 1  2  3  4  5]\n",
      " [ 6  7  8  9 10]] is 2\n"
     ]
    }
   ],
   "source": [
    "#Q7 Create a function array_dimension that takes a NumPy array as input and returns its dimensionality.\n",
    "import numpy as np\n",
    "def array_dimension(arr):\n",
    "    dim=arr.ndim\n",
    "    return dim\n",
    "\n",
    "arr1=np.array([1,2,3,4,5])\n",
    "arr2=np.array([[1,2,3,4,5],[6,7,8,9,10]])\n",
    "print(\"dimension of\",arr1,\"is\",array_dimension(arr1))\n",
    "print(\"dimension of\",arr2,\"is\",array_dimension(arr2))"
   ]
  },
  {
   "cell_type": "code",
   "execution_count": 8,
   "metadata": {},
   "outputs": [
    {
     "name": "stdout",
     "output_type": "stream",
     "text": [
      "Item size: 8     Item Size in Byte: 32\n"
     ]
    }
   ],
   "source": [
    "#Q8  Design a function item_size_info that takes a NumPy array as input and returns the item size and the total \n",
    "# size in bytes.\n",
    "import numpy as np\n",
    "def item_size_info(arr):\n",
    "    item_size=arr.itemsize\n",
    "    size_byte=arr.size*item_size\n",
    "    return item_size,size_byte\n",
    "\n",
    "arr1=np.array([1,2,3,4,5])\n",
    "itemSize,itemSizeByte=item_size_info(arr)\n",
    "print(\"Item size:\",itemSize,\"   \",\"Item Size in Byte:\",itemSizeByte)\n",
    "\n",
    "    "
   ]
  },
  {
   "cell_type": "code",
   "execution_count": 9,
   "metadata": {},
   "outputs": [
    {
     "name": "stdout",
     "output_type": "stream",
     "text": [
      "(12, 4)\n"
     ]
    }
   ],
   "source": [
    "#Q9 . Create a function array_strides that takes a NumPy array as input and returns the strides of the array.\n",
    "import numpy as np\n",
    "def array_strides(arr):\n",
    "    return arr.strides\n",
    "\n",
    "arr1=np.array([[1,2,3],[4,5,6]])\n",
    "print(array_strides(arr1))"
   ]
  },
  {
   "cell_type": "code",
   "execution_count": 10,
   "metadata": {},
   "outputs": [
    {
     "name": "stdout",
     "output_type": "stream",
     "text": [
      "shape of arr (2, 3)\n",
      "strides of arr (12, 4)\n"
     ]
    }
   ],
   "source": [
    "#Q10   Design a function shape_stride_relationship that takes a NumPy array as input and returns the shape \n",
    "# and strides of the array.\n",
    "import numpy as np\n",
    "def shape_stride_relationship(arr):\n",
    "    return arr.shape, arr.strides\n",
    "\n",
    "arr1=np.array([[1,2,3],[4,5,6]])\n",
    "shape_arr,strides_arr=shape_stride_relationship(arr1)\n",
    "print(\"shape of arr\",shape_arr)\n",
    "print(\"strides of arr\",strides_arr)"
   ]
  },
  {
   "cell_type": "code",
   "execution_count": 11,
   "metadata": {},
   "outputs": [
    {
     "data": {
      "text/plain": [
       "array([0, 0, 0, 0, 0])"
      ]
     },
     "execution_count": 11,
     "metadata": {},
     "output_type": "execute_result"
    }
   ],
   "source": [
    "#Q11  Create a function `create_zeros_array` that takes an integer `n` as input and returns a NumPy array of \n",
    "# zeros with `n` elements.\n",
    "import numpy as np\n",
    "def create_zeros_array(n):\n",
    "    arr=np.zeros(n,dtype=int)\n",
    "    return arr\n",
    "\n",
    "create_zeros_array(5)"
   ]
  },
  {
   "cell_type": "code",
   "execution_count": 12,
   "metadata": {},
   "outputs": [
    {
     "data": {
      "text/plain": [
       "array([[1, 1],\n",
       "       [1, 1],\n",
       "       [1, 1]])"
      ]
     },
     "execution_count": 12,
     "metadata": {},
     "output_type": "execute_result"
    }
   ],
   "source": [
    "#Q12 Write a function `create_ones_matrix` that takes integers `rows` and `cols` as inputs and generates a 2D \n",
    "# NumPy array filled with ones of size `rows x cols`.\n",
    "import numpy as np\n",
    "def create_ones_matrix(rows,cols):\n",
    "    arr=np.ones(shape=(rows,cols),dtype=int)\n",
    "    return arr\n",
    "create_ones_matrix(3,2)"
   ]
  },
  {
   "cell_type": "code",
   "execution_count": 13,
   "metadata": {},
   "outputs": [
    {
     "data": {
      "text/plain": [
       "array([1. , 1.1, 1.2, 1.3, 1.4, 1.5, 1.6, 1.7, 1.8, 1.9, 2. , 2.1, 2.2,\n",
       "       2.3, 2.4, 2.5, 2.6, 2.7, 2.8, 2.9, 3. , 3.1, 3.2, 3.3, 3.4, 3.5,\n",
       "       3.6, 3.7, 3.8, 3.9, 4. , 4.1, 4.2, 4.3, 4.4, 4.5, 4.6, 4.7, 4.8,\n",
       "       4.9])"
      ]
     },
     "execution_count": 13,
     "metadata": {},
     "output_type": "execute_result"
    }
   ],
   "source": [
    "#Q13 Write a function `generate_range_array` that takes three integers start, stop, and step as arguments and \n",
    "# creates a NumPy array with a range starting from `start`, ending at stop (exclusive), and with the specified \n",
    "# `step`.\n",
    "import numpy as np\n",
    "def generate_range_array(start,stop,step):\n",
    "    arr=np.arange(start,stop,step)\n",
    "    return arr\n",
    "\n",
    "generate_range_array(1,5,0.1)"
   ]
  },
  {
   "cell_type": "code",
   "execution_count": 14,
   "metadata": {},
   "outputs": [
    {
     "name": "stdout",
     "output_type": "stream",
     "text": [
      "[0.   0.25 0.5  0.75 1.  ]\n"
     ]
    }
   ],
   "source": [
    "#Q14  Design a function `generate_linear_space` that takes two floats `start`, `stop`, and an integer `num` as \n",
    "# arguments and generates a NumPy array with num equally spaced values between `start` and `stop` \n",
    "# (inclusive)\n",
    "import numpy as np\n",
    "def generate_linear_space(start,stop,num):\n",
    "    return np.linspace(start,stop,num)\n",
    "\n",
    "start=0.0\n",
    "stop=1.0\n",
    "num=5\n",
    "print(generate_linear_space(start,stop,num))"
   ]
  },
  {
   "cell_type": "code",
   "execution_count": 15,
   "metadata": {},
   "outputs": [
    {
     "name": "stdout",
     "output_type": "stream",
     "text": [
      "[[1. 0. 0. 0.]\n",
      " [0. 1. 0. 0.]\n",
      " [0. 0. 1. 0.]\n",
      " [0. 0. 0. 1.]]\n"
     ]
    }
   ],
   "source": [
    "#Q15 Create a function `create_identity_matrix` that takes an integer `n` as input and generates a square \n",
    "# identity matrix of size `n x n` using `numpy.eye`\n",
    "import numpy as np\n",
    "def create_identity_matrix(n):\n",
    "    return np.eye(n)\n",
    "n=4\n",
    "print(create_identity_matrix(n))\n"
   ]
  },
  {
   "cell_type": "code",
   "execution_count": 16,
   "metadata": {},
   "outputs": [
    {
     "name": "stdout",
     "output_type": "stream",
     "text": [
      "[1 2 3 4 5]\n",
      "\n",
      "[[1 2 3 4]\n",
      " [5 6 7 8]]\n"
     ]
    }
   ],
   "source": [
    "#Q16 . Write a function that takes a Python list and converts it into a NumPy array.\n",
    "import numpy as np\n",
    "def list_to_numpyArray(l):\n",
    "    return np.array(l)\n",
    "l=[1,2,3,4,5]\n",
    "print(list_to_numpyArray(l))\n",
    "print()\n",
    "l2=[[1,2,3,4],[5,6,7,8]]\n",
    "print(list_to_numpyArray(l2))"
   ]
  },
  {
   "cell_type": "code",
   "execution_count": 17,
   "metadata": {},
   "outputs": [
    {
     "name": "stdout",
     "output_type": "stream",
     "text": [
      "original array [1 2 3 4]\n",
      "view array [7 2 3 4]\n"
     ]
    }
   ],
   "source": [
    "#Q17  Create a NumPy array and demonstrate the use of `numpy.view` to create a new array object with the \n",
    "# same data\n",
    "import numpy as np\n",
    "l=[1,2,3,4]\n",
    "arr=np.array(l)\n",
    "print(\"original array\",arr)\n",
    "view_array=arr.view()\n",
    "view_array[0]=7\n",
    "print(\"view array\",view_array)"
   ]
  },
  {
   "cell_type": "code",
   "execution_count": 18,
   "metadata": {},
   "outputs": [
    {
     "name": "stdout",
     "output_type": "stream",
     "text": [
      "[[1 2 3 4]\n",
      " [5 6 7 8]]\n"
     ]
    }
   ],
   "source": [
    "#Q18  Write a function that takes two NumPy arrays and concatenates them along a specified axis.\n",
    "import numpy as np\n",
    "def concate_array(arr1,arr2):\n",
    "    return np.concatenate((arr1,arr2),axis=0)\n",
    "\n",
    "arr1=np.array([[1,2,3,4]])\n",
    "arr2=np.array([[5,6,7,8]])\n",
    "\n",
    "print(concate_array(arr1,arr2))"
   ]
  },
  {
   "cell_type": "code",
   "execution_count": 19,
   "metadata": {},
   "outputs": [
    {
     "name": "stdout",
     "output_type": "stream",
     "text": [
      "array1\n",
      "[[1 2]\n",
      " [3 4]]\n",
      "array2\n",
      "[[ 5  6  7]\n",
      " [ 8  9 10]]\n",
      "result\n",
      "[[ 1  2  5  6  7]\n",
      " [ 3  4  8  9 10]]\n"
     ]
    }
   ],
   "source": [
    "#Q19 Create two NumPy arrays with different shapes and concatenate them horizontally using `numpy.\n",
    "#  concatenate\n",
    "import numpy as np\n",
    "arr1=np.array([[1,2],[3,4]])\n",
    "arr2=np.array([[5,6,7],[8,9,10]])\n",
    "result=np.concatenate((arr1,arr2),axis=1)\n",
    "\n",
    "print(\"array1\")\n",
    "print(arr1)\n",
    "print(\"array2\")\n",
    "print(arr2)\n",
    "print(\"result\")\n",
    "print(result)\n"
   ]
  },
  {
   "cell_type": "code",
   "execution_count": 20,
   "metadata": {},
   "outputs": [
    {
     "name": "stdout",
     "output_type": "stream",
     "text": [
      "[[ 1  2]\n",
      " [ 3  4]\n",
      " [ 5  6]\n",
      " [ 7  8]\n",
      " [ 9 10]\n",
      " [11 12]]\n"
     ]
    }
   ],
   "source": [
    "#Q20    Write a function that vertically stacks multiple NumPy arrays given as a list\n",
    "import numpy as np\n",
    "def stack_arrays_vetically(l):\n",
    "    return np.vstack(l)\n",
    "\n",
    "arr1=np.array([[1,2],[3,4]])\n",
    "arr2=np.array([[5,6],[7,8]])\n",
    "arr3=np.array([[9,10],[11,12]])\n",
    "\n",
    "arr_list=[arr1,arr2,arr3]\n",
    "\n",
    "print(stack_arrays_vetically(arr_list))"
   ]
  },
  {
   "cell_type": "code",
   "execution_count": 21,
   "metadata": {},
   "outputs": [
    {
     "name": "stdout",
     "output_type": "stream",
     "text": [
      "[1 3 5 7 9]\n"
     ]
    }
   ],
   "source": [
    "#Q21 Write a Python function using NumPy to create an array of integers within a specified range (inclusive) \n",
    "# with a given step size\n",
    "\n",
    "import numpy as np\n",
    "def create_int_array(start,end,step):\n",
    "    result=np.arange(start,end+1,step,dtype=int)\n",
    "    return result\n",
    "start,end,step=1,10,2\n",
    "print(create_int_array(start,end,step))"
   ]
  },
  {
   "cell_type": "code",
   "execution_count": 22,
   "metadata": {},
   "outputs": [
    {
     "data": {
      "text/plain": [
       "array([0. , 0.1, 0.2, 0.3, 0.4, 0.5, 0.6, 0.7, 0.8, 0.9])"
      ]
     },
     "execution_count": 22,
     "metadata": {},
     "output_type": "execute_result"
    }
   ],
   "source": [
    "#Q22 Write a Python function using NumPy to generate an array of 10 equally spaced values between 0 and 1 \n",
    "# (inclusive)\n",
    "import numpy as np\n",
    "def generate_array():\n",
    "    return np.arange(0,1,0.1)\n",
    "generate_array()"
   ]
  },
  {
   "cell_type": "code",
   "execution_count": 23,
   "metadata": {},
   "outputs": [
    {
     "data": {
      "text/plain": [
       "array([   1.        ,    5.62341325,   31.6227766 ,  177.827941  ,\n",
       "       1000.        ])"
      ]
     },
     "execution_count": 23,
     "metadata": {},
     "output_type": "execute_result"
    }
   ],
   "source": [
    "#Q23 Write a Python function using NumPy to create an array of 5 logarithmically spaced values between 1 and \n",
    "# 1000 (inclusive)\n",
    "import numpy as np\n",
    "def generate_log(start,stop,num):\n",
    "    return  np.logspace(np.log10(start), np.log10(stop), num, endpoint=True)\n",
    "\n",
    "generate_log(1,1000,5)"
   ]
  },
  {
   "cell_type": "code",
   "execution_count": 24,
   "metadata": {},
   "outputs": [
    {
     "name": "stdout",
     "output_type": "stream",
     "text": [
      "Pandas DataFrame:\n",
      "   Column 1  Column 2  Column 3\n",
      "0        11        68        25\n",
      "1        84        21        95\n",
      "2        50        40        57\n",
      "3        54        35        39\n",
      "4        92         4        17\n"
     ]
    }
   ],
   "source": [
    "\n",
    "#Q24 Create a Pandas DataFrame using a NumPy array that contains 5 rows and 3 columns, where the values \n",
    "# are random integers between 1 and 100.\n",
    "import numpy as np\n",
    "import pandas as pd\n",
    "\n",
    "# Create a NumPy array with random integers between 1 and 100\n",
    "random_array = np.random.randint(1, 101, size=(5, 3))\n",
    "\n",
    "# Create a Pandas DataFrame using the random array\n",
    "df = pd.DataFrame(random_array, columns=['Column 1', 'Column 2', 'Column 3'])\n",
    "\n",
    "print(\"Pandas DataFrame:\")\n",
    "print(df)\n"
   ]
  },
  {
   "cell_type": "code",
   "execution_count": 25,
   "metadata": {},
   "outputs": [
    {
     "name": "stdout",
     "output_type": "stream",
     "text": [
      "Original DataFrame:\n",
      "   A  B\n",
      "0  1  5\n",
      "1  2 -6\n",
      "2 -3  7\n",
      "3  4 -8\n",
      "4 -5  9\n",
      "\n",
      "DataFrame after replacing negative values in column 'A' with zeros:\n",
      "   A  B\n",
      "0  1  5\n",
      "1  2 -6\n",
      "2  0  7\n",
      "3  4 -8\n",
      "4  0  9\n"
     ]
    }
   ],
   "source": [
    "#Q25 Write a function that takes a Pandas DataFrame and replaces all negative values in a specific column \n",
    "# with zeros. Use NumPy operations within the Pandas DataFrame.\n",
    "import pandas as pd\n",
    "import numpy as np\n",
    "\n",
    "def replace_negatives_with_zeros(df, column_name):\n",
    "    # Use NumPy operations to replace negative values with zeros in the specified column\n",
    "    df[column_name] = np.where(df[column_name] < 0, 0, df[column_name])\n",
    "    return df\n",
    "\n",
    "# Example usage:\n",
    "# Create a sample DataFrame\n",
    "data = {'A': [1, 2, -3, 4, -5],\n",
    "        'B': [5, -6, 7, -8, 9]}\n",
    "df = pd.DataFrame(data)\n",
    "\n",
    "print(\"Original DataFrame:\")\n",
    "print(df)\n",
    "\n",
    "# Replace negative values in column 'A' with zeros\n",
    "df = replace_negatives_with_zeros(df, 'A')\n",
    "\n",
    "print(\"\\nDataFrame after replacing negative values in column 'A' with zeros:\")\n",
    "print(df)\n"
   ]
  },
  {
   "cell_type": "code",
   "execution_count": 26,
   "metadata": {},
   "outputs": [
    {
     "name": "stdout",
     "output_type": "stream",
     "text": [
      "third element of arrray is  30\n"
     ]
    }
   ],
   "source": [
    "#Q26 Access the 3rd element from the given NumPy array.\n",
    "#  arr = np.array([10, 20, 30, 40, 50])\n",
    "import numpy as np\n",
    "arr=np.array([10,20,30,40,50])\n",
    "print(f\"third element of arrray is \",arr[2])"
   ]
  },
  {
   "cell_type": "code",
   "execution_count": 27,
   "metadata": {},
   "outputs": [
    {
     "name": "stdout",
     "output_type": "stream",
     "text": [
      "enelent at index (1,2) of [[1 2 3]\n",
      " [4 5 6]\n",
      " [7 8 9]] array is 6\n"
     ]
    }
   ],
   "source": [
    "#Q27  Retrieve the element at index (1, 2) from the 2D NumPy array.\n",
    "#  arr_2d = np.array([[1, 2, 3],\n",
    "#                     [4, 5, 6],\n",
    "#                     [7, 8, 9]])\n",
    "import numpy as np\n",
    "arr_2d = np.array([[1, 2, 3],\n",
    "                    [4, 5, 6],\n",
    "                    [7, 8, 9]])\n",
    "\n",
    "\n",
    "print(f\"enelent at index (1,2) of {arr_2d} array is {arr_2d[1][2]}\")"
   ]
  },
  {
   "cell_type": "code",
   "execution_count": 28,
   "metadata": {},
   "outputs": [
    {
     "name": "stdout",
     "output_type": "stream",
     "text": [
      "[ 8 10  7]\n"
     ]
    }
   ],
   "source": [
    "#Q28 Using boolean indexing, extract elements greater than 5 from the given NumPy array.\n",
    "#  arr = np.array([3, 8, 2, 10, 5, 7])\n",
    "import numpy as np\n",
    "arr = np.array([3, 8, 2, 10, 5, 7])\n",
    "greater=arr[arr>5]\n",
    "print(greater)"
   ]
  },
  {
   "cell_type": "code",
   "execution_count": 29,
   "metadata": {},
   "outputs": [
    {
     "name": "stdout",
     "output_type": "stream",
     "text": [
      "[3 4 5]\n"
     ]
    }
   ],
   "source": [
    "#Q29  Perform basic slicing to extract elements from index 2 to 5 (inclusive) from the given NumPy array.\n",
    "#  arr = np.array([1, 2, 3, 4, 5, 6, 7, 8, 9])\n",
    "import numpy as np\n",
    "\n",
    "arr = np.array([1, 2, 3, 4, 5, 6, 7, 8, 9])\n",
    "\n",
    "sliced_arr=arr[2:5]\n",
    "print(sliced_arr)"
   ]
  },
  {
   "cell_type": "code",
   "execution_count": 30,
   "metadata": {},
   "outputs": [
    {
     "name": "stdout",
     "output_type": "stream",
     "text": [
      "[[2 3]\n",
      " [5 6]]\n"
     ]
    }
   ],
   "source": [
    "#Q30 Slice the 2D NumPy array to extract the sub-array `[[2, 3], [5, 6]]` from the given array.\n",
    "# arr_2d = np.array([[1, 2, 3],\n",
    "#  [4, 5, 6],\n",
    "#  [7, 8, 9]])\n",
    "import numpy as np\n",
    "\n",
    "arr_2d = np.array([[1, 2, 3],\n",
    " [4, 5, 6],\n",
    " [7, 8, 9]])\n",
    "\n",
    "sliced_arr_2d=arr_2d[0:2,1:3]\n",
    "print(sliced_arr_2d)\n"
   ]
  },
  {
   "cell_type": "code",
   "execution_count": 31,
   "metadata": {},
   "outputs": [
    {
     "name": "stdout",
     "output_type": "stream",
     "text": [
      "Extracted elements based on indices: [2 6]\n"
     ]
    }
   ],
   "source": [
    "#Q31 Write a NumPy function to extract elements in specific order from a given 2D array based on indices \n",
    "# provided in another array.\n",
    "import numpy as np\n",
    "\n",
    "def extract_elements(arr_2d, indices):\n",
    "    # Convert indices to a NumPy array if it's not already\n",
    "    indices = np.array(indices)\n",
    "    # Use advanced indexing to extract elements based on indices\n",
    "    extracted_elements = arr_2d[indices[:,0], indices[:,1]]\n",
    "    return extracted_elements\n",
    "\n",
    "# Example usage:\n",
    "arr_2d = np.array([[1, 2, 3],\n",
    "                   [4, 5, 6],\n",
    "                   [7, 8, 9]])\n",
    "\n",
    "indices = np.array([[0, 1],\n",
    "                    [1, 2]])\n",
    "\n",
    "extracted_elements = extract_elements(arr_2d, indices)\n",
    "print(\"Extracted elements based on indices:\", extracted_elements)\n"
   ]
  },
  {
   "cell_type": "code",
   "execution_count": 32,
   "metadata": {},
   "outputs": [
    {
     "name": "stdout",
     "output_type": "stream",
     "text": [
      "Filtered elements greater than 5 : [ 7  9 11 13]\n"
     ]
    }
   ],
   "source": [
    "#Q32  Create a NumPy function that filters elements greater than a threshold from a given 1D array using \n",
    "# boolean indexing\n",
    "import numpy as np\n",
    "\n",
    "def filter_elements(arr, threshold):\n",
    "    filtered_elements = arr[arr > threshold]\n",
    "    return filtered_elements\n",
    "\n",
    "# Example usage:\n",
    "arr = np.array([1, 3, 5, 7, 9, 11, 13])\n",
    "threshold = 5\n",
    "\n",
    "filtered_array = filter_elements(arr, threshold)\n",
    "print(\"Filtered elements greater than\", threshold, \":\", filtered_array)\n"
   ]
  },
  {
   "cell_type": "code",
   "execution_count": 33,
   "metadata": {},
   "outputs": [
    {
     "name": "stdout",
     "output_type": "stream",
     "text": [
      "Extracted elements from the 3D array: [ 1 23]\n"
     ]
    }
   ],
   "source": [
    "#Q33  Develop a NumPy function that extracts specific elements from a 3D array using indices provided in three \n",
    "# separate arrays for each dimension\n",
    "import numpy as np\n",
    "\n",
    "def extract_elements_3d(arr_3d, indices_dim1, indices_dim2, indices_dim3):\n",
    "    # Convert indices to NumPy arrays if they're not already\n",
    "    indices_dim1 = np.array(indices_dim1)\n",
    "    indices_dim2 = np.array(indices_dim2)\n",
    "    indices_dim3 = np.array(indices_dim3)\n",
    "    \n",
    "    # Use advanced indexing to extract elements based on indices\n",
    "    extracted_elements = arr_3d[indices_dim1, indices_dim2, indices_dim3]\n",
    "    return extracted_elements\n",
    "\n",
    "# Example usage:\n",
    "arr_3d = np.arange(24).reshape((2, 3, 4))  # Example 3D array\n",
    "indices_dim1 = [0, 1]  # Indices for the first dimension\n",
    "indices_dim2 = [0, 2]  # Indices for the second dimension\n",
    "indices_dim3 = [1, 3]  # Indices for the third dimension\n",
    "\n",
    "extracted_elements = extract_elements_3d(arr_3d, indices_dim1, indices_dim2, indices_dim3)\n",
    "print(\"Extracted elements from the 3D array:\", extracted_elements)\n"
   ]
  },
  {
   "cell_type": "code",
   "execution_count": 34,
   "metadata": {},
   "outputs": [
    {
     "name": "stdout",
     "output_type": "stream",
     "text": [
      "Filtered elements that satisfy both conditions: [ 7  9 11]\n"
     ]
    }
   ],
   "source": [
    "#Q34  Write a NumPy function that returns elements from an array where both two conditions are satisfied \n",
    "# using boolean indexing.\n",
    "\n",
    "import numpy as np\n",
    "\n",
    "def filter_elements_two_conditions(arr, condition1, condition2):\n",
    "    # Use boolean indexing to filter elements that satisfy both conditions\n",
    "    filtered_elements = arr[condition1 & condition2]\n",
    "    return filtered_elements\n",
    "\n",
    "# Example usage:\n",
    "arr = np.array([1, 3, 5, 7, 9, 11, 13, 15])\n",
    "\n",
    "# Define two conditions\n",
    "condition1 = arr > 5\n",
    "condition2 = arr < 13\n",
    "\n",
    "filtered_array = filter_elements_two_conditions(arr, condition1, condition2)\n",
    "print(\"Filtered elements that satisfy both conditions:\", filtered_array)\n",
    "\n"
   ]
  },
  {
   "cell_type": "code",
   "execution_count": 35,
   "metadata": {},
   "outputs": [
    {
     "name": "stdout",
     "output_type": "stream",
     "text": [
      "Extracted elements from the 2D array: [20 60 70]\n"
     ]
    }
   ],
   "source": [
    "#Q35 Create a NumPy function that extracts elements from a 2D array using row and column indices provided \n",
    "# in separate arrays.\n",
    "import numpy as np\n",
    "\n",
    "def extract_elements_2d(arr_2d, row_indices, col_indices):\n",
    "    # Convert indices to NumPy arrays if they're not already\n",
    "    row_indices = np.array(row_indices)\n",
    "    col_indices = np.array(col_indices)\n",
    "    \n",
    "    # Use advanced indexing to extract elements based on row and column indices\n",
    "    extracted_elements = arr_2d[row_indices, col_indices]\n",
    "    return extracted_elements\n",
    "\n",
    "# Example usage:\n",
    "arr_2d = np.array([[10, 20, 30],\n",
    "                   [40, 50, 60],\n",
    "                   [70, 80, 90]])\n",
    "\n",
    "row_indices = [0, 1, 2]  # Indices for the rows\n",
    "col_indices = [1, 2, 0]  # Indices for the columns\n",
    "\n",
    "extracted_elements = extract_elements_2d(arr_2d, row_indices, col_indices)\n",
    "print(\"Extracted elements from the 2D array:\", extracted_elements)\n"
   ]
  },
  {
   "cell_type": "code",
   "execution_count": 36,
   "metadata": {},
   "outputs": [
    {
     "name": "stdout",
     "output_type": "stream",
     "text": [
      "Original array:\n",
      "[[1 2 3]\n",
      " [4 5 6]\n",
      " [7 8 9]]\n",
      "\n",
      "Array after adding 5 to each element:\n",
      "[[ 6  7  8]\n",
      " [ 9 10 11]\n",
      " [12 13 14]]\n"
     ]
    }
   ],
   "source": [
    "#Q36  Given an array arr of shape (3, 3), add a scalar value of 5 to each element using NumPy broadcasting\n",
    "import numpy as np\n",
    "\n",
    "# Define the array\n",
    "arr = np.array([[1, 2, 3],\n",
    "                [4, 5, 6],\n",
    "                [7, 8, 9]])\n",
    "\n",
    "# Add a scalar value of 5 to each element\n",
    "result = arr + 5\n",
    "\n",
    "print(\"Original array:\")\n",
    "print(arr)\n",
    "print(\"\\nArray after adding 5 to each element:\")\n",
    "print(result)\n"
   ]
  },
  {
   "cell_type": "code",
   "execution_count": 37,
   "metadata": {},
   "outputs": [
    {
     "name": "stdout",
     "output_type": "stream",
     "text": [
      "Array arr1:\n",
      "[[2 3 4]]\n",
      "\n",
      "Array arr2:\n",
      "[[ 1  2  3  4]\n",
      " [ 5  6  7  8]\n",
      " [ 9 10 11 12]]\n",
      "\n",
      "Result after broadcasting multiplication:\n",
      "[[ 2  4  6  8]\n",
      " [15 18 21 24]\n",
      " [36 40 44 48]]\n"
     ]
    }
   ],
   "source": [
    "#Q37 Consider two arrays arr1 of shape (1, 3) and arr2 of shape (3, 4). Multiply each row of arr2 by the \n",
    "# corresponding element in arr1 using NumPy broadcasting.\n",
    "import numpy as np\n",
    "\n",
    "# Define the arrays\n",
    "arr1 = np.array([[2, 3, 4]])  # Shape (1, 3)\n",
    "arr2 = np.array([[1, 2, 3, 4],\n",
    "                 [5, 6, 7, 8],\n",
    "                 [9, 10, 11, 12]])  # Shape (3, 4)\n",
    "\n",
    "# Reshape arr1 to be compatible with arr2 for broadcasting\n",
    "arr1_reshaped = arr1.T  # Shape (3, 1)\n",
    "\n",
    "# Multiply each row of arr2 by the corresponding element in arr1 using broadcasting\n",
    "result = arr1_reshaped * arr2\n",
    "\n",
    "print(\"Array arr1:\")\n",
    "print(arr1)\n",
    "print(\"\\nArray arr2:\")\n",
    "print(arr2)\n",
    "print(\"\\nResult after broadcasting multiplication:\")\n",
    "print(result)\n"
   ]
  },
  {
   "cell_type": "code",
   "execution_count": 38,
   "metadata": {},
   "outputs": [
    {
     "name": "stdout",
     "output_type": "stream",
     "text": [
      "Array arr1:\n",
      "[1 2 3]\n",
      "\n",
      "Array arr2:\n",
      "[[ 5  6  7]\n",
      " [ 8  9 10]\n",
      " [11 12 13]\n",
      " [14 15 16]]\n",
      "\n",
      "Result after broadcasting addition:\n",
      "[[ 6  8 10]\n",
      " [ 9 11 13]\n",
      " [12 14 16]\n",
      " [15 17 19]]\n"
     ]
    }
   ],
   "source": [
    "#Q38 . Given a 1D array arr1 of shape (1, 4) and a 2D array arr2 of shape (4, 3), add arr1 to each row of arr2 using \n",
    "# NumPy broadcasting.\n",
    "import numpy as np\n",
    "\n",
    "# Define the arrays\n",
    "arr1 = np.array([1, 2, 3, 4])  # Shape (1, 4)\n",
    "arr2 = np.array([[5, 6, 7],\n",
    "                 [8, 9, 10],\n",
    "                 [11, 12, 13],\n",
    "                 [14, 15, 16]])  # Shape (4, 3)\n",
    "\n",
    "# Adjust arr1 to be broadcastable for addition to each row of arr2\n",
    "# Here we are assuming you intended to add first 3 elements of arr1 to each row of arr2\n",
    "arr1 = arr1[:3]  # Shape (3,)\n",
    "\n",
    "# Add arr1 to each row of arr2 using broadcasting\n",
    "result = arr2 + arr1\n",
    "\n",
    "print(\"Array arr1:\")\n",
    "print(arr1)\n",
    "print(\"\\nArray arr2:\")\n",
    "print(arr2)\n",
    "print(\"\\nResult after broadcasting addition:\")\n",
    "print(result)\n"
   ]
  },
  {
   "cell_type": "code",
   "execution_count": 39,
   "metadata": {},
   "outputs": [
    {
     "name": "stdout",
     "output_type": "stream",
     "text": [
      "Result of adding arr1 and arr2 using broadcasting:\n",
      "[[5 6 7]\n",
      " [6 7 8]\n",
      " [7 8 9]]\n"
     ]
    }
   ],
   "source": [
    "#Q 39 Add two arrays arr1 of shape (3, 1) and arr2 of shape (1, 3) using NumPy broadcasting:\n",
    "import numpy as np\n",
    "\n",
    "# Define the arrays\n",
    "arr1 = np.array([[1], [2], [3]])\n",
    "arr2 = np.array([[4, 5, 6]])\n",
    "\n",
    "# Use broadcasting to add the arrays\n",
    "result = arr1 + arr2\n",
    "\n",
    "print(\"Result of adding arr1 and arr2 using broadcasting:\")\n",
    "print(result)\n"
   ]
  },
  {
   "cell_type": "code",
   "execution_count": 40,
   "metadata": {},
   "outputs": [
    {
     "name": "stdout",
     "output_type": "stream",
     "text": [
      "Result of multiplying arr1 and arr2_resized using broadcasting:\n",
      "[[ 7 16 21]\n",
      " [36 50 54]]\n"
     ]
    }
   ],
   "source": [
    "#Q40 Perform multiplication of arrays arr1 of shape (2, 3) and arr2 of shape (2, 2) using NumPy broadcasting, handling the shape incompatibility:\n",
    "import numpy as np\n",
    "\n",
    "# Define the arrays\n",
    "arr1 = np.array([[1, 2, 3], [4, 5, 6]])\n",
    "arr2 = np.array([[7, 8], [9, 10]])\n",
    "\n",
    "# Since arr1.shape is (2, 3) and arr2.shape is (2, 2), we cannot directly multiply them.\n",
    "# We can reshape arr2 to be broadcastable with arr1 or use a different approach depending on the use case.\n",
    "\n",
    "# Option 1: Reshape arr2 to match arr1 shape (This is a specific solution and assumes a repetitive pattern for arr2)\n",
    "arr2_resized = np.hstack((arr2, arr2[:, :1]))  # Reshape to (2, 3) by repeating last column\n",
    "\n",
    "# Perform element-wise multiplication using broadcasting\n",
    "result = arr1 * arr2_resized\n",
    "\n",
    "print(\"Result of multiplying arr1 and arr2_resized using broadcasting:\")\n",
    "print(result)\n"
   ]
  },
  {
   "cell_type": "code",
   "execution_count": 41,
   "metadata": {},
   "outputs": [
    {
     "name": "stdout",
     "output_type": "stream",
     "text": [
      "Column-wise mean:\n",
      "[2.5 3.5 4.5]\n"
     ]
    }
   ],
   "source": [
    "#Q41 Calculate column-wise mean for the given array:\n",
    "#  arr = np.array([[1, 2, 3], [4, 5, 6]])\n",
    "import numpy as np\n",
    "\n",
    "arr = np.array([[1, 2, 3], [4, 5, 6]])\n",
    "\n",
    "# Calculate column-wise mean\n",
    "column_mean = np.mean(arr, axis=0)\n",
    "\n",
    "print(\"Column-wise mean:\")\n",
    "print(column_mean)\n"
   ]
  },
  {
   "cell_type": "code",
   "execution_count": 42,
   "metadata": {},
   "outputs": [
    {
     "name": "stdout",
     "output_type": "stream",
     "text": [
      "Maximum value in each row:\n",
      "[3 6]\n"
     ]
    }
   ],
   "source": [
    "#Q42 Find maximum value in each row of the given array:\n",
    "#  arr = np.array([[1, 2, 3], [4, 5, 6]])\n",
    "import numpy as np\n",
    "\n",
    "arr = np.array([[1, 2, 3], [4, 5, 6]])\n",
    "\n",
    "# Find maximum value in each row\n",
    "row_max = np.max(arr, axis=1)\n",
    "\n",
    "print(\"Maximum value in each row:\")\n",
    "print(row_max)\n"
   ]
  },
  {
   "cell_type": "code",
   "execution_count": 43,
   "metadata": {},
   "outputs": [
    {
     "name": "stdout",
     "output_type": "stream",
     "text": [
      "Indices of maximum value in each column:\n",
      "[1 1 1]\n"
     ]
    }
   ],
   "source": [
    "#Q43 Find indices of maximum value in each column of the given array:\n",
    "#  arr = np.array([[1, 2, 3], [4, 5, 6]])\n",
    "import numpy as np\n",
    "\n",
    "arr = np.array([[1, 2, 3], [4, 5, 6]])\n",
    "\n",
    "\n",
    "indices_max = np.argmax(arr, axis=0)\n",
    "\n",
    "print(\"Indices of maximum value in each column:\")\n",
    "print(indices_max)\n"
   ]
  },
  {
   "cell_type": "code",
   "execution_count": 44,
   "metadata": {},
   "outputs": [
    {
     "name": "stdout",
     "output_type": "stream",
     "text": [
      "Moving sum along rows:\n",
      "[[ 1  3  6]\n",
      " [ 4  9 15]]\n"
     ]
    }
   ],
   "source": [
    "#Q44 Apply custom function to calculate moving sum along rows of the given array:\n",
    "# arr = np.array([[1, 2, 3], [4, 5, 6]])\n",
    "\n",
    "import numpy as np\n",
    "\n",
    "arr = np.array([[1, 2, 3], [4, 5, 6]])\n",
    "\n",
    "# Define a custom function to calculate moving sum along rows\n",
    "def moving_sum(arr):\n",
    "    return np.cumsum(arr, axis=1)\n",
    "\n",
    "# Apply the custom function\n",
    "moving_sum_result = moving_sum(arr)\n",
    "\n",
    "print(\"Moving sum along rows:\")\n",
    "print(moving_sum_result)\n"
   ]
  },
  {
   "cell_type": "code",
   "execution_count": 45,
   "metadata": {},
   "outputs": [
    {
     "name": "stdout",
     "output_type": "stream",
     "text": [
      "Are all elements in each column even?\n",
      "[False False False]\n"
     ]
    }
   ],
   "source": [
    "#Q45 Check if all elements in each column are even in the given array:\n",
    "#  arr = np.array([[2, 4, 6], [3, 5, 7]])\n",
    "import numpy as np\n",
    "\n",
    "arr = np.array([[2, 4, 6], [3, 5, 7]])\n",
    "\n",
    "# Check if all elements in each column are even\n",
    "all_even_columns = np.all(arr % 2 == 0, axis=0)\n",
    "\n",
    "print(\"Are all elements in each column even?\")\n",
    "print(all_even_columns)\n"
   ]
  },
  {
   "cell_type": "code",
   "execution_count": 46,
   "metadata": {},
   "outputs": [
    {
     "name": "stdout",
     "output_type": "stream",
     "text": [
      "Reshaped Matrix:\n",
      "[[1 2 3]\n",
      " [4 5 6]]\n"
     ]
    }
   ],
   "source": [
    "#Q46 Given a NumPy array arr, reshape it into a matrix of dimensions `m` rows and `n` columns. Return the \n",
    "# reshaped matrix.\n",
    "#  original_array = np.array([1, 2, 3, 4, 5, 6])\n",
    "\n",
    "import numpy as np\n",
    "\n",
    "def reshape_array(arr, m, n):\n",
    "    return np.reshape(arr, (m, n))\n",
    "\n",
    "# Example usage\n",
    "original_array = np.array([1, 2, 3, 4, 5, 6])\n",
    "reshaped_matrix = reshape_array(original_array, 2, 3)\n",
    "print(\"Reshaped Matrix:\")\n",
    "print(reshaped_matrix)\n",
    "\n"
   ]
  },
  {
   "cell_type": "code",
   "execution_count": 47,
   "metadata": {},
   "outputs": [
    {
     "name": "stdout",
     "output_type": "stream",
     "text": [
      "Flattened Array:\n",
      "[1 2 3 4 5 6]\n"
     ]
    }
   ],
   "source": [
    "#Q47 Create a function that takes a matrix as input and returns the flattened array.\n",
    "#  input_matrix = np.array([[1, 2, 3], [4, 5, 6]])\n",
    "import numpy as np\n",
    "\n",
    "def flatten_matrix(matrix):\n",
    "    return matrix.flatten()\n",
    "\n",
    "# Example usage\n",
    "input_matrix = np.array([[1, 2, 3], [4, 5, 6]])\n",
    "flattened_array = flatten_matrix(input_matrix)\n",
    "print(\"Flattened Array:\")\n",
    "print(flattened_array)\n",
    " "
   ]
  },
  {
   "cell_type": "code",
   "execution_count": 48,
   "metadata": {},
   "outputs": [
    {
     "name": "stdout",
     "output_type": "stream",
     "text": [
      "Concatenated Array along axis 0:\n",
      "[[1 2]\n",
      " [3 4]\n",
      " [5 6]\n",
      " [7 8]]\n"
     ]
    }
   ],
   "source": [
    "#Q48 Write a function that concatenates two given arrays along a specified axis.\n",
    "#  array1 = np.array([[1, 2], [3, 4]])\n",
    "#  array2 = np.array([[5, 6], [7, 8]])\n",
    "import numpy as np\n",
    "\n",
    "def concatenate_arrays(array1, array2, axis):\n",
    "    return np.concatenate((array1, array2), axis=axis)\n",
    "\n",
    "# Example usage\n",
    "array1 = np.array([[1, 2], [3, 4]])\n",
    "array2 = np.array([[5, 6], [7, 8]])\n",
    "concatenated_array = concatenate_arrays(array1, array2, axis=0)\n",
    "print(\"Concatenated Array along axis 0:\")\n",
    "print(concatenated_array)\n"
   ]
  },
  {
   "cell_type": "code",
   "execution_count": 49,
   "metadata": {},
   "outputs": [
    {
     "name": "stdout",
     "output_type": "stream",
     "text": [
      "Split Arrays:\n",
      "[[1 2 3]]\n",
      "[[4 5 6]\n",
      " [7 8 9]]\n"
     ]
    }
   ],
   "source": [
    "#Q49  Create a function that splits an array into multiple sub-arrays along a specified axis.\n",
    "#  original_array = np.array([[1, 2, 3], [4, 5, 6], [7, 8, 9]])\n",
    "import numpy as np\n",
    "\n",
    "def split_array(array, indices, axis):\n",
    "    return np.split(array, indices, axis=axis)\n",
    "\n",
    "# Example usage\n",
    "original_array = np.array([[1, 2, 3], [4, 5, 6], [7, 8, 9]])\n",
    "split_arrays = split_array(original_array, [1], axis=0)\n",
    "print(\"Split Arrays:\")\n",
    "for sub_array in split_arrays:\n",
    "    print(sub_array)\n"
   ]
  },
  {
   "cell_type": "code",
   "execution_count": 50,
   "metadata": {},
   "outputs": [
    {
     "name": "stdout",
     "output_type": "stream",
     "text": [
      "Modified Array:\n",
      "[ 1 10  4 11  5]\n"
     ]
    }
   ],
   "source": [
    "#Q50 Write a function that inserts and then deletes elements from a given array at specified indices.\n",
    "#  original_array = np.array([1, 2, 3, 4, 5])\n",
    "#  indices_to_insert = [2, 4]\n",
    "#  values_to_insert = [10, 11]\n",
    "#  indices_to_delete = [1, 3]\n",
    "import numpy as np\n",
    "\n",
    "def insert_and_delete_elements(arr, indices_to_insert, values_to_insert, indices_to_delete):\n",
    "    # Insert elements\n",
    "    arr = np.insert(arr, indices_to_insert, values_to_insert)\n",
    "    # Delete elements\n",
    "    arr = np.delete(arr, indices_to_delete)\n",
    "    return arr\n",
    "\n",
    "# Example usage\n",
    "original_array = np.array([1, 2, 3, 4, 5])\n",
    "indices_to_insert = [2, 4]\n",
    "values_to_insert = [10, 11]\n",
    "indices_to_delete = [1, 3]\n",
    "modified_array = insert_and_delete_elements(original_array, indices_to_insert, values_to_insert, indices_to_delete)\n",
    "print(\"Modified Array:\")\n",
    "print(modified_array)\n"
   ]
  },
  {
   "cell_type": "code",
   "execution_count": 51,
   "metadata": {},
   "outputs": [
    {
     "name": "stdout",
     "output_type": "stream",
     "text": [
      "Element-wise addition result:\n",
      "[ 6  3  9  5 10 16  9 13 18 15]\n"
     ]
    }
   ],
   "source": [
    "#Q51  Create a NumPy array `arr1` with random integers and another array `arr2` with integers from 1 to 10. \n",
    "# Perform element-wise addition between `arr1` and `arr2`.\n",
    "import numpy as np\n",
    "\n",
    "arr1 = np.random.randint(1, 11, size=10)\n",
    "arr2 = np.arange(1, 11)\n",
    "\n",
    "# Perform element-wise addition\n",
    "result = arr1 + arr2\n",
    "\n",
    "print(\"Element-wise addition result:\")\n",
    "print(result)\n"
   ]
  },
  {
   "cell_type": "code",
   "execution_count": 52,
   "metadata": {},
   "outputs": [
    {
     "name": "stdout",
     "output_type": "stream",
     "text": [
      "Element-wise subtraction result:\n",
      "[ 9  7  5  3  1 -1 -3 -5 -7 -9]\n"
     ]
    }
   ],
   "source": [
    "#Q 52. Generate a NumPy array `arr1` with sequential integers from 10 to 1 and another array `arr2` with integers \n",
    "# from 1 to 10. Subtract `arr2` from `arr1` element-wise.\n",
    "import numpy as np\n",
    "\n",
    "arr1 = np.arange(10, 0, -1)\n",
    "arr2 = np.arange(1, 11)\n",
    "\n",
    "# Perform element-wise subtraction\n",
    "result = arr1 - arr2\n",
    "\n",
    "print(\"Element-wise subtraction result:\")\n",
    "print(result)\n"
   ]
  },
  {
   "cell_type": "code",
   "execution_count": 53,
   "metadata": {},
   "outputs": [
    {
     "name": "stdout",
     "output_type": "stream",
     "text": [
      "Element-wise multiplication result:\n",
      "[ 5 14 27 20 35]\n"
     ]
    }
   ],
   "source": [
    "#Q 53. Create a NumPy array `arr1` with random integers and another array `arr2` with integers from 1 to 5. \n",
    "# Perform element-wise multiplication between `arr1` and `arr2`.\n",
    "import numpy as np\n",
    "\n",
    "arr1 = np.random.randint(1, 11, size=5)\n",
    "arr2 = np.arange(1, 6)\n",
    "\n",
    "# Perform element-wise multiplication\n",
    "result = arr1 * arr2\n",
    "\n",
    "print(\"Element-wise multiplication result:\")\n",
    "print(result)\n"
   ]
  },
  {
   "cell_type": "code",
   "execution_count": 54,
   "metadata": {},
   "outputs": [
    {
     "name": "stdout",
     "output_type": "stream",
     "text": [
      "Element-wise division result:\n",
      "[2. 2. 2. 2. 2.]\n"
     ]
    }
   ],
   "source": [
    "#Q 54. Generate a NumPy array `arr1` with even integers from 2 to 10 and another array `arr2` with integers from 1 \n",
    "# to 5. Perform element-wise division of `arr1` by `arr2`.\n",
    "import numpy as np\n",
    "\n",
    "arr1 = np.arange(2, 11, 2)\n",
    "arr2 = np.arange(1, 6)\n",
    "\n",
    "# Perform element-wise division\n",
    "result = arr1 / arr2\n",
    "\n",
    "print(\"Element-wise division result:\")\n",
    "print(result)\n"
   ]
  },
  {
   "cell_type": "code",
   "execution_count": 55,
   "metadata": {},
   "outputs": [
    {
     "name": "stdout",
     "output_type": "stream",
     "text": [
      "Element-wise exponentiation result:\n",
      "[ 1 16 27 16  5]\n"
     ]
    }
   ],
   "source": [
    "#Q55  Create a NumPy array `arr1` with integers from 1 to 5 and another array `arr2` with the same numbers \n",
    "# reversed. Calculate the exponentiation of `arr1` raised to the power of `arr2` element-wise.\n",
    "import numpy as np\n",
    "\n",
    "arr1 = np.arange(1, 6)\n",
    "arr2 = np.arange(5, 0, -1)\n",
    "\n",
    "# Perform element-wise exponentiation\n",
    "result = np.power(arr1, arr2)\n",
    "\n",
    "print(\"Element-wise exponentiation result:\")\n",
    "print(result)\n"
   ]
  },
  {
   "cell_type": "code",
   "execution_count": 56,
   "metadata": {},
   "outputs": [
    {
     "name": "stdout",
     "output_type": "stream",
     "text": [
      "Occurrences of substring 'hello':\n",
      "[1 0 1 0 1]\n"
     ]
    }
   ],
   "source": [
    "#Q 56. Write a function that counts the occurrences of a specific substring within a NumPy array of strings.\n",
    "#  arr = np.array(['hello', 'world', 'hello', 'numpy', 'hello'])\n",
    "import numpy as np\n",
    "\n",
    "def count_substring_occurrences(arr, substring):\n",
    "    return np.char.count(arr, substring)\n",
    "\n",
    "# Example usage\n",
    "arr = np.array(['hello', 'world', 'hello', 'numpy', 'hello'])\n",
    "substring = 'hello'\n",
    "occurrences = count_substring_occurrences(arr, substring)\n",
    "print(\"Occurrences of substring 'hello':\")\n",
    "print(occurrences)\n"
   ]
  },
  {
   "cell_type": "code",
   "execution_count": 57,
   "metadata": {},
   "outputs": [
    {
     "name": "stdout",
     "output_type": "stream",
     "text": [
      "Uppercase characters extracted:\n",
      "['HELLO' 'WORLD' 'OPENAI' 'GPT']\n"
     ]
    }
   ],
   "source": [
    "#Q57  Write a function that extracts uppercase characters from a NumPy array of strings.\n",
    "#  arr = np.array(['Hello', 'World', 'OpenAI', 'GPT'])\n",
    "#  arr = np.array(['Hello', 'World', 'OpenAI', 'GPT'])\n",
    "import numpy as np\n",
    "\n",
    "def extract_uppercase(arr):\n",
    "    return np.char.join('', np.char.upper(np.char.array(list(arr))))\n",
    "\n",
    "# Example usage\n",
    "arr = np.array(['Hello', 'World', 'OpenAI', 'GPT'])\n",
    "uppercase_characters = extract_uppercase(arr)\n",
    "print(\"Uppercase characters extracted:\")\n",
    "print(uppercase_characters)\n",
    "\n"
   ]
  },
  {
   "cell_type": "code",
   "execution_count": 58,
   "metadata": {},
   "outputs": [
    {
     "name": "stdout",
     "output_type": "stream",
     "text": [
      "Replaced Array:\n",
      "['fruit' 'banana' 'grape' 'pinefruit']\n"
     ]
    }
   ],
   "source": [
    "#Q58  Write a function that replaces occurrences of a substring in a NumPy array of strings with a new string.\n",
    "#  arr = np.array(['apple', 'banana', 'grape', 'pineapple'])\n",
    "import numpy as np\n",
    "\n",
    "def replace_substring(arr, old_substring, new_substring):\n",
    "    return np.char.replace(arr, old_substring, new_substring)\n",
    "\n",
    "# Example usage\n",
    "arr = np.array(['apple', 'banana', 'grape', 'pineapple'])\n",
    "replaced_arr = replace_substring(arr, 'apple', 'fruit')\n",
    "print(\"Replaced Array:\")\n",
    "print(replaced_arr)\n"
   ]
  },
  {
   "cell_type": "code",
   "execution_count": 59,
   "metadata": {},
   "outputs": [
    {
     "name": "stdout",
     "output_type": "stream",
     "text": [
      "Concatenated Strings:\n",
      "['apple pie' 'banana split']\n"
     ]
    }
   ],
   "source": [
    "#Q59 Write a function that concatenates strings in a NumPy array element-wise.\n",
    "#  arr1 = np.array(['Hello', 'World'])\n",
    "#  arr2 = np.array(['Open', 'AI'])\n",
    "import numpy as np\n",
    "\n",
    "def concatenate_strings(arr1, arr2):\n",
    "    return np.char.add(arr1, arr2)\n",
    "\n",
    "# Example usage\n",
    "arr1 = np.array(['apple', 'banana'])\n",
    "arr2 = np.array([' pie', ' split'])\n",
    "concatenated_arr = concatenate_strings(arr1, arr2)\n",
    "print(\"Concatenated Strings:\")\n",
    "print(concatenated_arr)\n"
   ]
  },
  {
   "cell_type": "code",
   "execution_count": 60,
   "metadata": {},
   "outputs": [
    {
     "name": "stdout",
     "output_type": "stream",
     "text": [
      "Length of the longest string:\n",
      "9\n"
     ]
    }
   ],
   "source": [
    "#  Q60. Write a function that finds the length of the longest string in a NumPy array.\n",
    "#  arr = np.array(['apple', 'banana', 'grape', 'pineapple'])\n",
    "import numpy as np\n",
    "\n",
    "def length_of_longest_string(arr):\n",
    "    return np.max(np.char.str_len(arr))\n",
    "\n",
    "# Example usage\n",
    "arr = np.array(['apple', 'banana', 'grape', 'pineapple'])\n",
    "longest_length = length_of_longest_string(arr)\n",
    "print(\"Length of the longest string:\")\n",
    "print(longest_length)\n"
   ]
  },
  {
   "cell_type": "code",
   "execution_count": 61,
   "metadata": {},
   "outputs": [
    {
     "name": "stdout",
     "output_type": "stream",
     "text": [
      "Mean: 477.59\n",
      "Median: 463.5\n",
      "Variance: 81886.40190000001\n",
      "Standard Deviation: 286.15800163546015\n"
     ]
    }
   ],
   "source": [
    "#Q 61. Create a dataset of 100 random integers between 1 and 1000. Compute the mean, median, variance, and \n",
    "# standard deviation of the dataset using NumPy's functions.\n",
    "import numpy as np\n",
    "\n",
    "# Generate dataset\n",
    "dataset = np.random.randint(1, 1001, size=100)\n",
    "\n",
    "# Compute statistics\n",
    "mean = np.mean(dataset)\n",
    "median = np.median(dataset)\n",
    "variance = np.var(dataset)\n",
    "std_dev = np.std(dataset)\n",
    "\n",
    "print(\"Mean:\", mean)\n",
    "print(\"Median:\", median)\n",
    "print(\"Variance:\", variance)\n",
    "print(\"Standard Deviation:\", std_dev)\n"
   ]
  },
  {
   "cell_type": "code",
   "execution_count": 62,
   "metadata": {},
   "outputs": [
    {
     "name": "stdout",
     "output_type": "stream",
     "text": [
      "25th Percentile: 36.0\n",
      "75th Percentile: 71.75\n"
     ]
    }
   ],
   "source": [
    "#62 Generate an array of 50 random numbers between 1 and 100. Find the 25th and 75th percentiles of the dataset:\n",
    "import numpy as np\n",
    "\n",
    "# Generate dataset\n",
    "dataset = np.random.randint(1, 101, size=50)\n",
    "\n",
    "# Compute percentiles\n",
    "percentile_25 = np.percentile(dataset, 25)\n",
    "percentile_75 = np.percentile(dataset, 75)\n",
    "\n",
    "print(\"25th Percentile:\", percentile_25)\n",
    "print(\"75th Percentile:\", percentile_75)\n"
   ]
  },
  {
   "cell_type": "code",
   "execution_count": 63,
   "metadata": {},
   "outputs": [
    {
     "name": "stdout",
     "output_type": "stream",
     "text": [
      "Correlation Coefficient Matrix:\n",
      "[[ 1.         -0.09234957]\n",
      " [-0.09234957  1.        ]]\n"
     ]
    }
   ],
   "source": [
    "#Q63  Create two arrays representing two sets of variables. Compute the correlation coefficient between these \n",
    "# arrays using NumPy's `corrcoef` function\n",
    "import numpy as np\n",
    "\n",
    "# Create datasets\n",
    "x = np.random.randint(1, 101, size=50)\n",
    "y = np.random.randint(1, 101, size=50)\n",
    "\n",
    "# Compute correlation coefficient\n",
    "correlation_matrix = np.corrcoef(x, y)\n",
    "\n",
    "print(\"Correlation Coefficient Matrix:\")\n",
    "print(correlation_matrix)\n"
   ]
  },
  {
   "cell_type": "code",
   "execution_count": 64,
   "metadata": {},
   "outputs": [
    {
     "name": "stdout",
     "output_type": "stream",
     "text": [
      "Matrix Multiplication Result:\n",
      "[[190 165 108]\n",
      " [143 104  87]\n",
      " [ 94  57  66]]\n"
     ]
    }
   ],
   "source": [
    "#Q64Create two matrices and perform matrix multiplication using NumPy's `dot` function\n",
    "import numpy as np\n",
    "\n",
    "# Create matrices\n",
    "matrix1 = np.random.randint(1, 10, size=(3, 3))\n",
    "matrix2 = np.random.randint(1, 10, size=(3, 3))\n",
    "\n",
    "# Perform matrix multiplication\n",
    "result = np.dot(matrix1, matrix2)\n",
    "\n",
    "print(\"Matrix Multiplication Result:\")\n",
    "print(result)\n"
   ]
  },
  {
   "cell_type": "code",
   "execution_count": 65,
   "metadata": {},
   "outputs": [
    {
     "name": "stdout",
     "output_type": "stream",
     "text": [
      "10th Percentile: 134.7\n",
      "50th Percentile (Median): 570.5\n",
      "90th Percentile: 913.2\n",
      "First Quartile: 248.0\n",
      "Third Quartile: 779.0\n"
     ]
    }
   ],
   "source": [
    "#Q65  Create an array of 50 integers between 10 and 1000. Calculate the 10th, 50th (median), and 90th \n",
    "# percentiles along with the first and third quartiles.\n",
    "import numpy as np\n",
    "\n",
    "# Generate dataset\n",
    "dataset = np.random.randint(10, 1001, size=50)\n",
    "\n",
    "# Compute percentiles and quartiles\n",
    "percentile_10 = np.percentile(dataset, 10)\n",
    "percentile_50 = np.percentile(dataset, 50)\n",
    "percentile_90 = np.percentile(dataset, 90)\n",
    "first_quartile = np.percentile(dataset, 25)\n",
    "third_quartile = np.percentile(dataset, 75)\n",
    "\n",
    "print(\"10th Percentile:\", percentile_10)\n",
    "print(\"50th Percentile (Median):\", percentile_50)\n",
    "print(\"90th Percentile:\", percentile_90)\n",
    "print(\"First Quartile:\", first_quartile)\n",
    "print(\"Third Quartile:\", third_quartile)\n"
   ]
  },
  {
   "cell_type": "code",
   "execution_count": 66,
   "metadata": {},
   "outputs": [
    {
     "name": "stdout",
     "output_type": "stream",
     "text": [
      "Index of element 30: 2\n"
     ]
    }
   ],
   "source": [
    "#Q66 . Create a NumPy array of integers and find the index of a specific element\n",
    "import numpy as np\n",
    "\n",
    "def find_index(arr, element):\n",
    "    index = np.where(arr == element)\n",
    "    return index[0][0] if index[0].size > 0 else -1\n",
    "\n",
    "# Example usage\n",
    "arr = np.array([10, 20, 30, 40, 50])\n",
    "element = 30\n",
    "index = find_index(arr, element)\n",
    "print(\"Index of element 30:\", index)\n"
   ]
  },
  {
   "cell_type": "code",
   "execution_count": 67,
   "metadata": {},
   "outputs": [
    {
     "name": "stdout",
     "output_type": "stream",
     "text": [
      "Sorted Array:\n",
      "[22 25 31 32 53 73 82 91 92 96]\n"
     ]
    }
   ],
   "source": [
    "#Q67 Generate a random NumPy array and sort it in ascending order.\n",
    "import numpy as np\n",
    "\n",
    "# Generate dataset\n",
    "arr = np.random.randint(1, 101, size=10)\n",
    "\n",
    "# Sort array\n",
    "sorted_arr = np.sort(arr)\n",
    "\n",
    "print(\"Sorted Array:\")\n",
    "print(sorted_arr)\n"
   ]
  },
  {
   "cell_type": "code",
   "execution_count": 68,
   "metadata": {},
   "outputs": [
    {
     "name": "stdout",
     "output_type": "stream",
     "text": [
      "Filtered elements > 20:\n",
      "[25 42 30]\n"
     ]
    }
   ],
   "source": [
    "#Q68  Filter elements >20  in the given NumPy array.\n",
    "#  arr = np.array([12, 25, 6, 42, 8, 30])\n",
    "import numpy as np\n",
    "\n",
    "# Given array\n",
    "arr = np.array([12, 25, 6, 42, 8, 30])\n",
    "\n",
    "# Filter elements greater than 20\n",
    "filtered_arr = arr[arr > 20]\n",
    "\n",
    "print(\"Filtered elements > 20:\")\n",
    "print(filtered_arr)\n"
   ]
  },
  {
   "cell_type": "code",
   "execution_count": 69,
   "metadata": {},
   "outputs": [
    {
     "name": "stdout",
     "output_type": "stream",
     "text": [
      "Filtered elements divisible by 3:\n",
      "[12 15]\n"
     ]
    }
   ],
   "source": [
    "#Q69 Filter elements which are divisible by 3 from a given NumPy array.\n",
    "#  arr = np.array([1, 5, 8, 12, 15])\n",
    "import numpy as np\n",
    "\n",
    "# Given array\n",
    "arr = np.array([1, 5, 8, 12, 15])\n",
    "\n",
    "# Filter elements divisible by 3\n",
    "filtered_arr = arr[arr % 3 == 0]\n",
    "\n",
    "print(\"Filtered elements divisible by 3:\")\n",
    "print(filtered_arr)\n"
   ]
  },
  {
   "cell_type": "code",
   "execution_count": 70,
   "metadata": {},
   "outputs": [
    {
     "name": "stdout",
     "output_type": "stream",
     "text": [
      "Filtered elements between 20 and 40:\n",
      "[20 30 40]\n"
     ]
    }
   ],
   "source": [
    "#Q70  Filter elements which are ≥ 20 and ≤ 40 from a given NumPy array.\n",
    "#  arr = np.array([10, 20, 30, 40, 50])\n",
    "import numpy as np\n",
    "\n",
    "# Given array\n",
    "arr = np.array([10, 20, 30, 40, 50])\n",
    "\n",
    "# Filter elements between 20 and 40 inclusive\n",
    "filtered_arr = arr[(arr >= 20) & (arr <= 40)]\n",
    "\n",
    "print(\"Filtered elements between 20 and 40:\")\n",
    "print(filtered_arr)\n"
   ]
  },
  {
   "cell_type": "code",
   "execution_count": 71,
   "metadata": {},
   "outputs": [
    {
     "name": "stdout",
     "output_type": "stream",
     "text": [
      "Byte order of the array:\n",
      "=\n"
     ]
    }
   ],
   "source": [
    "#Q71  For the given NumPy array, check its byte order using the `dtype` attribute byteorder.\n",
    "#  arr = np.array([1, 2, 3])\n",
    "import numpy as np\n",
    "\n",
    "# Given array\n",
    "arr = np.array([1, 2, 3])\n",
    "\n",
    "# Check byte order\n",
    "byte_order = arr.dtype.byteorder\n",
    "\n",
    "print(\"Byte order of the array:\")\n",
    "print(byte_order)\n"
   ]
  },
  {
   "cell_type": "code",
   "execution_count": 72,
   "metadata": {},
   "outputs": [
    {
     "name": "stdout",
     "output_type": "stream",
     "text": [
      "Array after byte swapping in place:\n",
      "[256 512 768]\n"
     ]
    }
   ],
   "source": [
    "#Q72  For the given NumPy array, perform byte swapping in place using `byteswap()`.\n",
    "#  arr = np.array([1, 2, 3], dtype=np.int32)\n",
    "import numpy as np\n",
    "\n",
    "# Given array\n",
    "arr = np.array([1, 2, 3], dtype=np.int16)\n",
    "\n",
    "# Perform byte swapping in place\n",
    "arr.byteswap(True)\n",
    "\n",
    "print(\"Array after byte swapping in place:\")\n",
    "print(arr)\n"
   ]
  },
  {
   "cell_type": "code",
   "execution_count": 73,
   "metadata": {},
   "outputs": [
    {
     "name": "stdout",
     "output_type": "stream",
     "text": [
      "Original array:\n",
      "[1 2 3]\n",
      "Array with swapped byte order:\n",
      "[256 512 768]\n"
     ]
    }
   ],
   "source": [
    "#Q73  For the given NumPy array, swap its byte order without modifying the original array using \n",
    "# `newbyteorder()`.\n",
    "#  arr = np.array([1, 2, 3], dtype=np.int32)\n",
    "import numpy as np\n",
    "\n",
    "# Given array\n",
    "arr = np.array([1, 2, 3], dtype=np.int16)\n",
    "\n",
    "# Swap byte order without modifying the original array\n",
    "swapped_arr = arr.newbyteorder()\n",
    "\n",
    "print(\"Original array:\")\n",
    "print(arr)\n",
    "print(\"Array with swapped byte order:\")\n",
    "print(swapped_arr)\n"
   ]
  },
  {
   "cell_type": "code",
   "execution_count": 74,
   "metadata": {},
   "outputs": [
    {
     "name": "stdout",
     "output_type": "stream",
     "text": [
      "Conditionally swapped array:\n",
      "[256 512 768]\n"
     ]
    }
   ],
   "source": [
    "#Q74 . For the given NumPy array and swap its byte order conditionally based on system endianness using \n",
    "# `newbyteorder()`.\n",
    "#  arr = np.array([1, 2, 3], dtype=np.int32)\n",
    "import numpy as np\n",
    "\n",
    "# Given array\n",
    "arr = np.array([1, 2, 3], dtype=np.int16)\n",
    "\n",
    "# Check system endianness and swap byte order if necessary\n",
    "if arr.dtype.byteorder == '=':\n",
    "    swapped_arr = arr.newbyteorder('S')\n",
    "else:\n",
    "    swapped_arr = arr\n",
    "\n",
    "print(\"Conditionally swapped array:\")\n",
    "print(swapped_arr)\n"
   ]
  },
  {
   "cell_type": "code",
   "execution_count": 75,
   "metadata": {},
   "outputs": [
    {
     "name": "stdout",
     "output_type": "stream",
     "text": [
      "Is byte swapping necessary?\n",
      "True\n"
     ]
    }
   ],
   "source": [
    "#Q75 For the given NumPy array, check if byte swapping is necessary for the current system using `dtype` \n",
    "# attribute `byteorder`.\n",
    "#  arr = np.array([1, 2, 3], dtype=np.int32)\n",
    "import numpy as np\n",
    "\n",
    "# Given array\n",
    "arr = np.array([1, 2, 3], dtype=np.int16)\n",
    "\n",
    "# Check if byte swapping is necessary\n",
    "byte_order = arr.dtype.byteorder\n",
    "need_swap = byte_order == '='\n",
    "\n",
    "print(\"Is byte swapping necessary?\")\n",
    "print(need_swap)\n"
   ]
  },
  {
   "cell_type": "code",
   "execution_count": 76,
   "metadata": {},
   "outputs": [
    {
     "name": "stdout",
     "output_type": "stream",
     "text": [
      "Original array (arr1):\n",
      "[ 1  2  3  4  5  6  7  8  9 10]\n",
      "Modified copy (copy_arr):\n",
      "[100   2   3   4   5   6   7   8   9  10]\n"
     ]
    }
   ],
   "source": [
    "#Q76  Create a NumPy array `arr1` with values from 1 to 10. Create a copy of `arr1` named `copy_arr` and modify \n",
    "# an element in `copy_arr`. Check if modifying `copy_arr` affects `arr1`.\n",
    "import numpy as np\n",
    "\n",
    "# Create arr1\n",
    "arr1 = np.arange(1, 11)\n",
    "\n",
    "# Create a copy of arr1\n",
    "copy_arr = arr1.copy()\n",
    "\n",
    "# Modify an element in copy_arr\n",
    "copy_arr[0] = 100\n",
    "\n",
    "print(\"Original array (arr1):\")\n",
    "print(arr1)\n",
    "print(\"Modified copy (copy_arr):\")\n",
    "print(copy_arr)\n"
   ]
  },
  {
   "cell_type": "code",
   "execution_count": 77,
   "metadata": {},
   "outputs": [
    {
     "name": "stdout",
     "output_type": "stream",
     "text": [
      "Original matrix after modifying view_slice:\n",
      "[[100   1   4]\n",
      " [  3   4   1]\n",
      " [  5   9   4]]\n"
     ]
    }
   ],
   "source": [
    "#Q77  Create a 2D NumPy array `matrix` of shape (3, 3) with random integers. Extract a slice `view_slice` from \n",
    "# the matrix. Modify an element in `view_slice` and observe if it changes the original `matrix`.\n",
    "import numpy as np\n",
    "\n",
    "# Create matrix\n",
    "matrix = np.random.randint(1, 10, size=(3, 3))\n",
    "\n",
    "# Extract a slice\n",
    "view_slice = matrix[:2, :2]\n",
    "\n",
    "# Modify an element in view_slice\n",
    "view_slice[0, 0] = 100\n",
    "\n",
    "print(\"Original matrix after modifying view_slice:\")\n",
    "print(matrix)\n"
   ]
  },
  {
   "cell_type": "code",
   "execution_count": 78,
   "metadata": {},
   "outputs": [
    {
     "name": "stdout",
     "output_type": "stream",
     "text": [
      "Original array_a after broadcasting addition to view_b:\n",
      "[[ 6  7  3]\n",
      " [ 9 10  6]\n",
      " [ 7  8  9]\n",
      " [10 11 12]]\n"
     ]
    }
   ],
   "source": [
    "#Q78  Create a NumPy array `array_a` of shape (4, 3) with sequential integers from 1 to 12. Extract a slice \n",
    "# `view_b` from `array_a` and broadcast the addition of 5 to view_b. Check if it alters the original `array_a`.\n",
    "import numpy as np\n",
    "\n",
    "# Create array_a\n",
    "array_a = np.arange(1, 13).reshape(4, 3)\n",
    "\n",
    "# Extract a slice view_b\n",
    "view_b = array_a[:2, :2]\n",
    "\n",
    "# Broadcast addition of 5\n",
    "view_b += 5\n",
    "\n",
    "print(\"Original array_a after broadcasting addition to view_b:\")\n",
    "print(array_a)\n"
   ]
  },
  {
   "cell_type": "code",
   "execution_count": 79,
   "metadata": {},
   "outputs": [
    {
     "name": "stdout",
     "output_type": "stream",
     "text": [
      "Original orig_array after modifying reshaped_view:\n",
      "[[100   2   3   4]\n",
      " [  5   6   7   8]]\n"
     ]
    }
   ],
   "source": [
    "#Q79 . Create a NumPy array `orig_array` of shape (2, 4) with values from 1 to 8. Create a reshaped view \n",
    "# `reshaped_view` of shape (4, 2) from orig_array. Modify an element in `reshaped_view` and check if it \n",
    "# reflects changes in the original `orig_array`\n",
    "import numpy as np\n",
    "\n",
    "# Create orig_array\n",
    "orig_array = np.arange(1, 9).reshape(2, 4)\n",
    "\n",
    "# Create reshaped view\n",
    "reshaped_view = orig_array.reshape(4, 2)\n",
    "\n",
    "# Modify an element in reshaped_view\n",
    "reshaped_view[0, 0] = 100\n",
    "\n",
    "print(\"Original orig_array after modifying reshaped_view:\")\n",
    "print(orig_array)\n"
   ]
  },
  {
   "cell_type": "code",
   "execution_count": 80,
   "metadata": {},
   "outputs": [
    {
     "name": "stdout",
     "output_type": "stream",
     "text": [
      "Original data:\n",
      "[[8 4 3 8]\n",
      " [4 2 2 6]\n",
      " [1 4 1 6]]\n",
      "Modified data_copy:\n",
      "[100   8   6   6]\n"
     ]
    }
   ],
   "source": [
    "#Q80  Create a NumPy array `data` of shape (3, 4) with random integers. Extract a copy `data_copy` of \n",
    "# elements greater than 5. Modify an element in `data_copy` and verify if it affects the original `data`.\n",
    "import numpy as np\n",
    "\n",
    "# Create data\n",
    "data = np.random.randint(1, 10, size=(3, 4))\n",
    "\n",
    "# Extract a copy of elements greater than 5\n",
    "data_copy = data[data > 5].copy()\n",
    "\n",
    "# Modify an element in data_copy\n",
    "if data_copy.size > 0:\n",
    "    data_copy[0] = 100\n",
    "\n",
    "print(\"Original data:\")\n",
    "print(data)\n",
    "print(\"Modified data_copy:\")\n",
    "print(data_copy)\n"
   ]
  },
  {
   "cell_type": "code",
   "execution_count": 81,
   "metadata": {},
   "outputs": [
    {
     "name": "stdout",
     "output_type": "stream",
     "text": [
      "Matrix A:\n",
      "[[5 4 7]\n",
      " [3 6 8]\n",
      " [6 1 5]]\n",
      "Matrix B:\n",
      "[[4 1 3]\n",
      " [1 3 4]\n",
      " [1 6 6]]\n",
      "Addition Result:\n",
      "[[ 9  5 10]\n",
      " [ 4  9 12]\n",
      " [ 7  7 11]]\n",
      "Subtraction Result:\n",
      "[[ 1  3  4]\n",
      " [ 2  3  4]\n",
      " [ 5 -5 -1]]\n"
     ]
    }
   ],
   "source": [
    "#Q81 Create two matrices A and B of identical shape containing integers and perform addition and subtraction \n",
    "# operations between them.\n",
    "import numpy as np\n",
    "\n",
    "# Create matrices A and B\n",
    "A = np.random.randint(1, 10, size=(3, 3))\n",
    "B = np.random.randint(1, 10, size=(3, 3))\n",
    "\n",
    "# Perform addition\n",
    "addition_result = A + B\n",
    "\n",
    "# Perform subtraction\n",
    "subtraction_result = A - B\n",
    "\n",
    "print(\"Matrix A:\")\n",
    "print(A)\n",
    "print(\"Matrix B:\")\n",
    "print(B)\n",
    "print(\"Addition Result:\")\n",
    "print(addition_result)\n",
    "print(\"Subtraction Result:\")\n",
    "print(subtraction_result)\n"
   ]
  },
  {
   "cell_type": "code",
   "execution_count": 82,
   "metadata": {},
   "outputs": [
    {
     "name": "stdout",
     "output_type": "stream",
     "text": [
      "Matrix C:\n",
      "[[5 9]\n",
      " [6 5]\n",
      " [6 6]]\n",
      "Matrix D:\n",
      "[[3 7 6 2]\n",
      " [7 6 9 7]]\n",
      "Matrix Multiplication Result:\n",
      "[[ 78  89 111  73]\n",
      " [ 53  72  81  47]\n",
      " [ 60  78  90  54]]\n"
     ]
    }
   ],
   "source": [
    "#Q82 . Generate two matrices `C` (3x2) and `D` (2x4) and perform matrix multiplication\n",
    "import numpy as np\n",
    "\n",
    "# Create matrices C and D\n",
    "C = np.random.randint(1, 10, size=(3, 2))\n",
    "D = np.random.randint(1, 10, size=(2, 4))\n",
    "\n",
    "# Perform matrix multiplication\n",
    "multiplication_result = np.dot(C, D)\n",
    "\n",
    "print(\"Matrix C:\")\n",
    "print(C)\n",
    "print(\"Matrix D:\")\n",
    "print(D)\n",
    "print(\"Matrix Multiplication Result:\")\n",
    "print(multiplication_result)\n"
   ]
  },
  {
   "cell_type": "code",
   "execution_count": 83,
   "metadata": {},
   "outputs": [
    {
     "name": "stdout",
     "output_type": "stream",
     "text": [
      "Matrix E:\n",
      "[[7 4 4]\n",
      " [5 5 7]\n",
      " [8 6 8]]\n",
      "Transpose of E:\n",
      "[[7 5 8]\n",
      " [4 5 6]\n",
      " [4 7 8]]\n"
     ]
    }
   ],
   "source": [
    "#Q83  Create a matrix `E` and find its transpose\n",
    "import numpy as np\n",
    "\n",
    "# Create matrix E\n",
    "E = np.random.randint(1, 10, size=(3, 3))\n",
    "\n",
    "# Find transpose\n",
    "transpose_E = np.transpose(E)\n",
    "\n",
    "print(\"Matrix E:\")\n",
    "print(E)\n",
    "print(\"Transpose of E:\")\n",
    "print(transpose_E)\n"
   ]
  },
  {
   "cell_type": "code",
   "execution_count": 84,
   "metadata": {},
   "outputs": [
    {
     "name": "stdout",
     "output_type": "stream",
     "text": [
      "Matrix F:\n",
      "[[9 3 4]\n",
      " [9 5 8]\n",
      " [7 9 8]]\n",
      "Determinant of F:\n",
      "-152.00000000000014\n"
     ]
    }
   ],
   "source": [
    "#Q84 . Generate a square matrix `F` and compute its determinant.\n",
    "import numpy as np\n",
    "\n",
    "# Create square matrix F\n",
    "F = np.random.randint(1, 10, size=(3, 3))\n",
    "\n",
    "# Compute determinant\n",
    "det_F = np.linalg.det(F)\n",
    "\n",
    "print(\"Matrix F:\")\n",
    "print(F)\n",
    "print(\"Determinant of F:\")\n",
    "print(det_F)\n"
   ]
  },
  {
   "cell_type": "code",
   "execution_count": 85,
   "metadata": {},
   "outputs": [
    {
     "name": "stdout",
     "output_type": "stream",
     "text": [
      "Matrix G:\n",
      "[[7 3 9]\n",
      " [5 4 9]\n",
      " [4 3 6]]\n",
      "Inverse of G:\n",
      "[[ 0.25       -0.75        0.75      ]\n",
      " [-0.5        -0.5         1.5       ]\n",
      " [ 0.08333333  0.75       -1.08333333]]\n"
     ]
    }
   ],
   "source": [
    "#Q85 Create a square matrix `G` and find its inverse\n",
    "import numpy as np\n",
    "\n",
    "# Create square matrix G\n",
    "G = np.random.randint(1, 10, size=(3, 3))\n",
    "\n",
    "# Find inverse\n",
    "try:\n",
    "    inverse_G = np.linalg.inv(G)\n",
    "    print(\"Matrix G:\")\n",
    "    print(G)\n",
    "    print(\"Inverse of G:\")\n",
    "    print(inverse_G)\n",
    "except np.linalg.LinAlgError:\n",
    "    print(\"Matrix G is singular and cannot be inverted.\")\n"
   ]
  }
 ],
 "metadata": {
  "kernelspec": {
   "display_name": "Python 3",
   "language": "python",
   "name": "python3"
  },
  "language_info": {
   "codemirror_mode": {
    "name": "ipython",
    "version": 3
   },
   "file_extension": ".py",
   "mimetype": "text/x-python",
   "name": "python",
   "nbconvert_exporter": "python",
   "pygments_lexer": "ipython3",
   "version": "3.11.1"
  }
 },
 "nbformat": 4,
 "nbformat_minor": 2
}
